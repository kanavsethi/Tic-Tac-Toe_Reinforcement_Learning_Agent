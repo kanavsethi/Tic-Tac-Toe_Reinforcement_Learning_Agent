{
 "cells": [
  {
   "cell_type": "markdown",
   "id": "6544083b-3388-4180-9be9-ab45263e2bbe",
   "metadata": {},
   "source": [
    "Adding This is here incase you mess around with the outputs and notebook becomes too large to open.<br>\n",
    "Run the below cell to clear all outputs from the notebook."
   ]
  },
  {
   "cell_type": "code",
   "execution_count": 5,
   "id": "34dd31f3",
   "metadata": {},
   "outputs": [],
   "source": [
    "from nbformat import read, write\n",
    "\n",
    "def Remove_Output(Book):\n",
    "\n",
    "    for cell in Book.cells:\n",
    "\n",
    "        if hasattr(cell, \"outputs\"):\n",
    "            cell.outputs = []\n",
    "\n",
    "        if hasattr(cell, \"prompt_number\"):\n",
    "            del cell[\"prompt_number\"]\n",
    "\n",
    "Book= read(open(\"TicTacToe_Agent.ipynb\"), 4)\n",
    "Remove_Output(Book)\n",
    "write(Book, open(\"TicTacToe_Agent.ipynb\", \"w\"), 4)"
   ]
  }
 ],
 "metadata": {
  "kernelspec": {
   "display_name": "Python 3 (ipykernel)",
   "language": "python",
   "name": "python3"
  },
  "language_info": {
   "codemirror_mode": {
    "name": "ipython",
    "version": 3
   },
   "file_extension": ".py",
   "mimetype": "text/x-python",
   "name": "python",
   "nbconvert_exporter": "python",
   "pygments_lexer": "ipython3",
   "version": "3.10.4"
  }
 },
 "nbformat": 4,
 "nbformat_minor": 5
}
